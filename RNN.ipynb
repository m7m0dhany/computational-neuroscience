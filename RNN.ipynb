{
 "cells": [
  {
   "cell_type": "code",
   "execution_count": 4,
   "id": "47ac2fb8-122b-4c0f-b138-6b2d05f08b03",
   "metadata": {},
   "outputs": [
    {
     "name": "stdout",
     "output_type": "stream",
     "text": [
      " 'the sun rises', the predicted word is: brightly\n"
     ]
    }
   ],
   "source": [
    "import numpy as np\n",
    "from tensorflow.keras.models import Sequential\n",
    "from tensorflow.keras.layers import SimpleRNN, Dense\n",
    "\n",
    "sentence = \"the sun rises brightly\"\n",
    "words = sentence.split()\n",
    "\n",
    "word_to_num = {word: i for i, word in enumerate(words)}\n",
    "num_to_word = {i: word for i, word in enumerate(words)}\n",
    "\n",
    "X = np.array([\n",
    "    [word_to_num[\"the\"], word_to_num[\"sun\"], word_to_num[\"rises\"]]\n",
    "])\n",
    "y = np.array([word_to_num[\"brightly\"]])\n",
    "\n",
    "X_onehot = np.eye(len(words))[X]\n",
    "y_onehot = np.eye(len(words))[y]\n",
    "\n",
    "model = Sequential([\n",
    "    SimpleRNN(4, input_shape=(3, len(words))),\n",
    "    Dense(len(words), activation='softmax')\n",
    "])\n",
    "model.compile(loss='categorical_crossentropy', optimizer='adam')\n",
    "\n",
    "model.fit(X_onehot, y_onehot, epochs=100, verbose=0)\n",
    "\n",
    "input_seq = np.array([X_onehot[0]])\n",
    "prediction = model.predict(input_seq, verbose=0)\n",
    "predicted_word = num_to_word[np.argmax(prediction)]\n",
    "\n",
    "print(f\" 'the sun rises', the predicted word is: {predicted_word}\")"
   ]
  },
  {
   "cell_type": "code",
   "execution_count": null,
   "id": "a3dd332b-b2b5-4637-9073-6f81e1cad0de",
   "metadata": {},
   "outputs": [],
   "source": []
  }
 ],
 "metadata": {
  "kernelspec": {
   "display_name": "Python [conda env:base] *",
   "language": "python",
   "name": "conda-base-py"
  },
  "language_info": {
   "codemirror_mode": {
    "name": "ipython",
    "version": 3
   },
   "file_extension": ".py",
   "mimetype": "text/x-python",
   "name": "python",
   "nbconvert_exporter": "python",
   "pygments_lexer": "ipython3",
   "version": "3.12.7"
  }
 },
 "nbformat": 4,
 "nbformat_minor": 5
}
