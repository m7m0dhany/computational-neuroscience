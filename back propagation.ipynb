{
 "cells": [
  {
   "cell_type": "code",
   "execution_count": 1,
   "id": "75d19764",
   "metadata": {},
   "outputs": [
    {
     "name": "stdout",
     "output_type": "stream",
     "text": [
      "Updated weights:\n",
      "w1 = 0.14985, w2 = 0.19980, w3 = 0.24969, w4 = 0.29959\n",
      "w5 = 0.36407, w6 = 0.46178, w7 = 0.46396, w8 = 0.56182\n"
     ]
    }
   ],
   "source": [
    "import numpy as np\n",
    "i1, i2 = 0.05, 0.10\n",
    "w1, w2, w3, w4 = 0.15, 0.20, 0.25, 0.30\n",
    "w5, w6, w7, w8 = 0.40, 0.45, 0.50, 0.55\n",
    "b1, b2 = 0.35, 0.60\n",
    "t1, t2 = 0.10, 0.99\n",
    "learning_rate = 0.5\n",
    "\n",
    "def sigmoid(x):\n",
    "    return 1 / (1 + np.exp(-x))\n",
    "\n",
    "def sigmoid_derivative(x):\n",
    "    return x * (1 - x)\n",
    "\n",
    "h1_input = (i1 * w1) + (i2 * w3) + b1\n",
    "h2_input = (i1 * w2) + (i2 * w4) + b1\n",
    "h1_output = sigmoid(h1_input)\n",
    "h2_output = sigmoid(h2_input)\n",
    "\n",
    "o1_input = (h1_output * w5) + (h2_output * w7) + b2\n",
    "o2_input = (h1_output * w6) + (h2_output * w8) + b2\n",
    "o1_output = sigmoid(o1_input)\n",
    "o2_output = sigmoid(o2_input)\n",
    "\n",
    "error1 = 0.5 * (t1 - o1_output) ** 2\n",
    "error2 = 0.5 * (t2 - o2_output) ** 2\n",
    "total_error = error1 + error2\n",
    "\n",
    "delta_o1 = (o1_output - t1) * sigmoid_derivative(o1_output)\n",
    "delta_o2 = (o2_output - t2) * sigmoid_derivative(o2_output)\n",
    "\n",
    "dw5 = learning_rate * delta_o1 * h1_output\n",
    "dw6 = learning_rate * delta_o2 * h1_output\n",
    "dw7 = learning_rate * delta_o1 * h2_output\n",
    "dw8 = learning_rate * delta_o2 * h2_output\n",
    "\n",
    "w5 -= dw5\n",
    "w6 -= dw6\n",
    "w7 -= dw7\n",
    "w8 -= dw8\n",
    "\n",
    "delta_h1 = (delta_o1 * w5 + delta_o2 * w6) * sigmoid_derivative(h1_output)\n",
    "delta_h2 = (delta_o1 * w7 + delta_o2 * w8) * sigmoid_derivative(h2_output)\n",
    "\n",
    "dw1 = learning_rate * delta_h1 * i1\n",
    "dw2 = learning_rate * delta_h2 * i1\n",
    "dw3 = learning_rate * delta_h1 * i2\n",
    "dw4 = learning_rate * delta_h2 * i2\n",
    "\n",
    "w1 -= dw1\n",
    "w2 -= dw2\n",
    "w3 -= dw3\n",
    "w4 -= dw4\n",
    "\n",
    "print(f\"Updated weights:\")\n",
    "print(f\"w1 = {w1:.5f}, w2 = {w2:.5f}, w3 = {w3:.5f}, w4 = {w4:.5f}\")\n",
    "print(f\"w5 = {w5:.5f}, w6 = {w6:.5f}, w7 = {w7:.5f}, w8 = {w8:.5f}\")"
   ]
  },
  {
   "cell_type": "code",
   "execution_count": null,
   "id": "bf1a8a4e",
   "metadata": {},
   "outputs": [],
   "source": []
  }
 ],
 "metadata": {
  "kernelspec": {
   "display_name": "Python 3 (ipykernel)",
   "language": "python",
   "name": "python3"
  },
  "language_info": {
   "codemirror_mode": {
    "name": "ipython",
    "version": 3
   },
   "file_extension": ".py",
   "mimetype": "text/x-python",
   "name": "python",
   "nbconvert_exporter": "python",
   "pygments_lexer": "ipython3",
   "version": "3.10.9"
  }
 },
 "nbformat": 4,
 "nbformat_minor": 5
}
