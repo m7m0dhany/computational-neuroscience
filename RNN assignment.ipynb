{
 "cells": [
  {
   "cell_type": "code",
   "execution_count": 2,
   "id": "cf60c1c3-b06e-4720-aaaf-89f993ab7dfa",
   "metadata": {},
   "outputs": [
    {
     "name": "stderr",
     "output_type": "stream",
     "text": [
      "C:\\Users\\m7mo0\\anaconda3\\Lib\\site-packages\\keras\\src\\layers\\rnn\\rnn.py:200: UserWarning: Do not pass an `input_shape`/`input_dim` argument to a layer. When using Sequential models, prefer using an `Input(shape)` object as the first layer in the model instead.\n",
      "  super().__init__(**kwargs)\n"
     ]
    },
    {
     "name": "stdout",
     "output_type": "stream",
     "text": [
      "After 'the sun rises', the next word is: brightly\n"
     ]
    }
   ],
   "source": [
    "import numpy as np\n",
    "from tensorflow.keras.models import Sequential\n",
    "from tensorflow.keras.layers import SimpleRNN, Dense\n",
    "\n",
    "sentence = \"the sun rises brightly\"\n",
    "words = sentence.split()\n",
    "\n",
    "word_to_num = {word: i for i, word in enumerate(words)}\n",
    "num_to_word = {i: word for i, word in enumerate(words)}\n",
    "\n",
    "X = np.array([\n",
    "    [word_to_num[\"the\"], word_to_num[\"sun\"], word_to_num[\"rises\"]]\n",
    "])\n",
    "y = np.array([word_to_num[\"brightly\"]])\n",
    "\n",
    "X_onehot = np.eye(len(words))[X]\n",
    "y_onehot = np.eye(len(words))[y]\n",
    "\n",
    "model = Sequential([\n",
    "    SimpleRNN(4, input_shape=(3, len(words))),\n",
    "    Dense(len(words), activation='softmax')\n",
    "])\n",
    "model.compile(loss='categorical_crossentropy', optimizer='adam')\n",
    "\n",
    "model.fit(X_onehot, y_onehot, epochs=100, verbose=0)\n",
    "\n",
    "input_seq = np.array([X_onehot[0]])\n",
    "prediction = model.predict(input_seq, verbose=0)\n",
    "predicted_word = num_to_word[np.argmax(prediction)]\n",
    "\n",
    "print(f\"After 'the sun rises: {predicted_word}\")"
   ]
  },
  {
   "cell_type": "code",
   "execution_count": null,
   "id": "536fb31c-f320-4210-a3fd-cb284d97102e",
   "metadata": {},
   "outputs": [],
   "source": []
  }
 ],
 "metadata": {
  "kernelspec": {
   "display_name": "Python [conda env:base] *",
   "language": "python",
   "name": "conda-base-py"
  },
  "language_info": {
   "codemirror_mode": {
    "name": "ipython",
    "version": 3
   },
   "file_extension": ".py",
   "mimetype": "text/x-python",
   "name": "python",
   "nbconvert_exporter": "python",
   "pygments_lexer": "ipython3",
   "version": "3.12.7"
  }
 },
 "nbformat": 4,
 "nbformat_minor": 5
}
