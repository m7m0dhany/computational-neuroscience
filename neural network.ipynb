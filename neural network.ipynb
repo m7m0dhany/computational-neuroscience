{
 "cells": [
  {
   "cell_type": "code",
   "execution_count": 3,
   "id": "abf0e485",
   "metadata": {},
   "outputs": [
    {
     "name": "stdout",
     "output_type": "stream",
     "text": [
      "Output is: 0.5484565310267984 0.5755739884287807\n"
     ]
    }
   ],
   "source": [
    "import numpy as np\n",
    "def tanh(x):\n",
    "    return (2 / (1 + np.exp(-2 * x))) - 1\n",
    "\n",
    "np.random.seed(4) \n",
    "\n",
    "input1, input2 = 1, 1\n",
    "bias1, bias2 = 0.5, 0.7\n",
    "\n",
    "w1, w2, w3, w4 = np.random.uniform(-0.5, 0.5, 4)\n",
    "w5, w6, w7, w8 = np.random.uniform(-0.5, 0.5, 4)\n",
    "\n",
    "neth1 = w1 * input1 + w2 * input2 + bias1\n",
    "neth2 = w3 * input1 + w4 * input2 + bias1\n",
    "\n",
    "outh1 = tanh(neth1)\n",
    "outh2 = tanh(neth2)\n",
    "\n",
    "neto1 = w5 * outh1 + w6 * outh2 + bias2\n",
    "neto2 = w7 * outh1 + w8 * outh2 + bias2\n",
    "\n",
    "o1 = tanh(neto1)\n",
    "o2 = tanh(neto2)\n",
    "\n",
    "print(\"Output is:\", o1, o2)"
   ]
  },
  {
   "cell_type": "code",
   "execution_count": null,
   "id": "62488e63",
   "metadata": {},
   "outputs": [],
   "source": []
  }
 ],
 "metadata": {
  "kernelspec": {
   "display_name": "Python 3 (ipykernel)",
   "language": "python",
   "name": "python3"
  },
  "language_info": {
   "codemirror_mode": {
    "name": "ipython",
    "version": 3
   },
   "file_extension": ".py",
   "mimetype": "text/x-python",
   "name": "python",
   "nbconvert_exporter": "python",
   "pygments_lexer": "ipython3",
   "version": "3.10.9"
  }
 },
 "nbformat": 4,
 "nbformat_minor": 5
}
